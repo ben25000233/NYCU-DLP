{
 "cells": [
  {
   "cell_type": "code",
   "execution_count": 1,
   "id": "5dd28f50",
   "metadata": {},
   "outputs": [],
   "source": [
    "import numpy as np\n",
    "import matplotlib.pyplot as plt\n",
    "import random"
   ]
  },
  {
   "cell_type": "code",
   "execution_count": 2,
   "id": "3fdd8081",
   "metadata": {},
   "outputs": [],
   "source": [
    "def generate_linear(n = 100):\n",
    "    \"\"\"\n",
    "    generate 100 linear point\n",
    "    \n",
    "    return : points and labels\n",
    "    \"\"\"\n",
    "    pts = np.random.uniform(0, 1, (n, 2))\n",
    "    inputs = []\n",
    "    labels = []\n",
    "    for pt in pts:\n",
    "        inputs.append([pt[0], pt[1]])\n",
    "        distance = (pt[0] - pt[1])/1.414\n",
    "        if pt[0] > pt[1] : \n",
    "            labels.append(0)\n",
    "        else:\n",
    "            labels.append(1)\n",
    "    return np.array(inputs), np.array(labels).reshape(n, 1)    \n",
    "        \n",
    "def generate_XOR_easy():\n",
    "    \"\"\"\n",
    "    generate 21 XOR point\n",
    "    \n",
    "    return : points and labels\n",
    "    \"\"\"\n",
    "    inputs = []\n",
    "    labels = []\n",
    "    for i in range(11):\n",
    "        inputs.append([0.1 *i, 0.1*i])\n",
    "        labels.append(0)\n",
    "        if(0.1 * i == 0.5) :\n",
    "            continue\n",
    "        inputs.append([0.1*i, 1-0.1*i])\n",
    "        labels.append(1)\n",
    "    return np.array(inputs), np.array(labels).reshape(21, 1)\n",
    "\n",
    "    "
   ]
  },
  {
   "cell_type": "code",
   "execution_count": 3,
   "id": "182185c1",
   "metadata": {},
   "outputs": [],
   "source": [
    "def sigmoid(x):\n",
    "    return 1.0 / (1.0 + np.exp(-x))\n",
    "\n",
    "def der_sigmoid(x):\n",
    "    # input x must be the value which is the output from sigmoid function\n",
    "    return x * (1 - x)"
   ]
  },
  {
   "cell_type": "code",
   "execution_count": 4,
   "id": "42ebb403",
   "metadata": {},
   "outputs": [],
   "source": [
    "class NNwork:\n",
    "    def __init__(self,neurons_per_layer = (10, 10)):\n",
    "        self.lr = 0.2\n",
    "        self.epoch = 20000\n",
    "        self.EPS=1e-3\n",
    "        self.w1 = np.random.rand(neurons_per_layer[0],2)\n",
    "        self.w2 = np.random.rand(neurons_per_layer[1],neurons_per_layer[0])\n",
    "        self.w3 = np.random.rand(1,neurons_per_layer[1])\n",
    "    \n",
    "    def loss_function(self, pred_y, label_y):\n",
    "        '''\n",
    "        choose cross entrophy as loss function\n",
    "        '''\n",
    "        loss=-(1/label_y.shape[0])*(label_y.T@np.log(pred_y+self.EPS).T+(1-label_y.T)@np.log(1-pred_y+self.EPS).T)\n",
    "        return float(np.abs(loss))\n",
    "\n",
    "        \n",
    "    def forward(self, inputs):\n",
    "        '''\n",
    "        x-> w1-> z1-> a1-> w2-> z2-> a2-> w3-> z3-> a3\n",
    "        '''\n",
    "        self.x = inputs.T\n",
    "        self.z1 = self.w1@self.x\n",
    "        self.a1 = sigmoid(self.z1)\n",
    "        self.z2 = self.w2@self.a1\n",
    "        self.a2 = sigmoid(self.z2)\n",
    "        self.z3 = self.w3@self.a2\n",
    "        self.a3 = sigmoid(self.z3)\n",
    "        return self.a3\n",
    "    \n",
    "    def backward(self,label_y):\n",
    "\n",
    "        batch_size = label_y.shape[0]\n",
    "        #calculate der_C_z3\n",
    "        der_c_a3 = -(label_y.T/(self.a3)-(1-label_y.T)/(1-self.a3))\n",
    "       \n",
    "        der_a3_z3 = der_sigmoid(self.a3)\n",
    "\n",
    "        der_c_z3 = der_c_a3*der_a3_z3 \n",
    "        #calculate der_C_z2\n",
    "        der_c_z2 = self.w3.T@der_c_z3*der_sigmoid(self.a2)\n",
    "        \n",
    "        #calculate der_C_z1\n",
    "        der_c_z1 = self.w2.T@der_c_z2*der_sigmoid(self.a1) \n",
    "        \n",
    "        # calculate gradient of weight\n",
    "        grad_W3 = der_c_z3@(self.a2).T*(1/batch_size)   \n",
    "        grad_W2 = der_c_z2@(self.a1).T*(1/batch_size)\n",
    "        grad_W1 = der_c_z1@(self.x).T*(1/batch_size)\n",
    "        \n",
    "        # update\n",
    "        self.w1 -= self.lr*grad_W1\n",
    "        self.w2 -= self.lr*grad_W2\n",
    "        self.w3 -= self.lr*grad_W3\n",
    "        return\n",
    "    \n",
    "    def calculate_accuracy(self, pred_y, labels_y):\n",
    "        pred_y = pred_y.reshape(-1,1)\n",
    "        pred_y = np.round(pred_y) \n",
    "        correct = np.sum(pred_y == labels_y)\n",
    "        total = labels_y.shape[0]  \n",
    "        accuracy = (correct / total) * 100  \n",
    "        return accuracy\n",
    "        \n",
    "    def train_network(self, inputs, labels_y):\n",
    "        for epoch in range(self.epoch):\n",
    "            pred_y = self.forward(inputs)\n",
    "            self.backward(labels_y)\n",
    "            if epoch % 1000 == 0:\n",
    "                loss = self.loss_function(pred_y, labels_y)\n",
    "                accuracy = self.calculate_accuracy(pred_y, labels_y)\n",
    "                learning_epoch.append(epoch)\n",
    "                learning_loss.append(np.mean(loss))\n",
    "\n",
    "                print(f\"Epoch: {epoch}, Loss: {np.mean(loss)}, Accuracy: {accuracy:.2f}%\")\n",
    "        print(\"Training finished.\")\n",
    "        \n",
    "    def test_network(self, inputs, labels_y):\n",
    "        print('start testing:')\n",
    "        pred_y = self.forward(inputs)\n",
    "        print(pred_y)\n",
    "        loss = self.loss_function(pred_y, labels_y)\n",
    "        accuracy = self.calculate_accuracy(pred_y, labels_y)\n",
    "        print(f\"Loss: {np.mean(loss)}, Accuracy: {accuracy:.2f}%\")\n",
    "        print('testing finished')"
   ]
  },
  {
   "cell_type": "code",
   "execution_count": 5,
   "id": "1321f5fc",
   "metadata": {},
   "outputs": [],
   "source": [
    "def show_result(x, y,pred_y):\n",
    "    plt.subplot(1, 2, 1)\n",
    "    plt.title('Ground truth', fontsize=18)\n",
    "    for i in range(x.shape[0]):\n",
    "        if y[i] == 0:\n",
    "            plt.plot(x[i][0], x[i][1], 'ro')\n",
    "        else:\n",
    "            plt.plot(x[i][0], x[i][1], 'bo')\n",
    "\n",
    "    plt.subplot(1, 2, 2)\n",
    "    plt.title('Predict result', fontsize=18)\n",
    "    for i in range(x.shape[0]):\n",
    "        if pred_y[i] == 0:\n",
    "            plt.plot(x[i][0], x[i][1], 'ro')\n",
    "        else:\n",
    "            plt.plot(x[i][0], x[i][1], 'bo')\n",
    "\n",
    "    plt.show()\n",
    "    "
   ]
  },
  {
   "cell_type": "code",
   "execution_count": 6,
   "id": "794817d0",
   "metadata": {},
   "outputs": [
    {
     "name": "stdout",
     "output_type": "stream",
     "text": [
      "Epoch: 0, Loss: 1.6362359958292254, Accuracy: 53.00%\n",
      "Epoch: 1000, Loss: 0.6891193048793878, Accuracy: 53.00%\n",
      "Epoch: 2000, Loss: 0.6882638904623698, Accuracy: 53.00%\n",
      "Epoch: 3000, Loss: 0.6826429815324577, Accuracy: 53.00%\n",
      "Epoch: 4000, Loss: 0.1240669253160268, Accuracy: 100.00%\n",
      "Epoch: 5000, Loss: 0.03953806130577094, Accuracy: 100.00%\n",
      "Epoch: 6000, Loss: 0.02377959290489619, Accuracy: 100.00%\n",
      "Epoch: 7000, Loss: 0.016924166510086762, Accuracy: 100.00%\n",
      "Epoch: 8000, Loss: 0.013026880744464413, Accuracy: 100.00%\n",
      "Epoch: 9000, Loss: 0.010492291949551969, Accuracy: 100.00%\n",
      "Epoch: 10000, Loss: 0.008703342245302042, Accuracy: 100.00%\n",
      "Epoch: 11000, Loss: 0.007369300990748787, Accuracy: 100.00%\n",
      "Epoch: 12000, Loss: 0.006334602258779035, Accuracy: 100.00%\n",
      "Epoch: 13000, Loss: 0.005508142387576927, Accuracy: 100.00%\n",
      "Epoch: 14000, Loss: 0.00483282694511224, Accuracy: 100.00%\n",
      "Epoch: 15000, Loss: 0.004270933999772055, Accuracy: 100.00%\n",
      "Epoch: 16000, Loss: 0.003796465045356318, Accuracy: 100.00%\n",
      "Epoch: 17000, Loss: 0.0033908728559049117, Accuracy: 100.00%\n",
      "Epoch: 18000, Loss: 0.0030405422668710208, Accuracy: 100.00%\n",
      "Epoch: 19000, Loss: 0.00273523581935451, Accuracy: 100.00%\n",
      "Training finished.\n",
      "start testing:\n",
      "[[9.99993925e-01 2.72208380e-04 1.07651576e-05 9.99991289e-01\n",
      "  9.99978682e-01 9.99992972e-01 9.99994237e-01 1.30600500e-01\n",
      "  9.96162952e-01 9.14407654e-06 2.61842528e-05 1.55868648e-04\n",
      "  7.93046577e-06 9.99993757e-01 9.94721609e-06 9.99981761e-01\n",
      "  1.09884803e-05 9.99857269e-01 9.99992997e-01 9.99994261e-01\n",
      "  9.98208773e-01 9.99994818e-01 1.73538142e-05 9.99987707e-01\n",
      "  1.81623828e-05 2.76681813e-05 9.99987516e-01 2.20973088e-05\n",
      "  9.99992578e-01 7.69029548e-06 9.99984913e-01 1.52195111e-03\n",
      "  1.39424155e-05 9.99933036e-01 3.59666766e-05 4.36391491e-05\n",
      "  9.99989045e-01 9.99993026e-01 9.99993062e-01 1.37223131e-03\n",
      "  9.99983463e-01 9.99993428e-01 9.99994313e-01 9.99931223e-01\n",
      "  9.99994478e-01 9.99993396e-01 1.12569503e-05 1.42459613e-05\n",
      "  9.99987183e-01 3.72265178e-05 1.22576093e-05 3.33595866e-05\n",
      "  9.99994431e-01 9.98671485e-01 6.66388711e-05 9.99994312e-01\n",
      "  3.15970852e-03 9.99993490e-01 9.99994763e-01 1.19133423e-05\n",
      "  8.36778672e-06 1.16951873e-05 9.99993207e-01 2.85640526e-02\n",
      "  1.69877785e-05 9.97774328e-01 9.96613764e-01 8.52138797e-06\n",
      "  1.14962196e-05 5.57374431e-05 9.42743363e-06 9.99970747e-01\n",
      "  9.99994531e-01 9.43312888e-01 9.24823962e-01 9.99780976e-01\n",
      "  9.99989309e-01 9.58898286e-06 8.69500435e-06 3.73059161e-05\n",
      "  9.99994404e-01 9.99994814e-01 8.36347291e-06 9.98440615e-01\n",
      "  9.99994510e-01 9.99933226e-01 7.70615539e-06 9.99992557e-01\n",
      "  9.99992694e-01 9.81267763e-01 1.20941897e-05 4.83091294e-05\n",
      "  1.02710374e-04 9.99979195e-01 9.39409267e-06 2.29570643e-05\n",
      "  9.99992021e-01 9.99994436e-01 1.09058986e-04 1.65223583e-04]]\n",
      "Loss: 0.002467097222501598, Accuracy: 100.00%\n",
      "testing finished\n"
     ]
    },
    {
     "data": {
      "image/png": "[encoded data removed]",
      "text/plain": [
       "<Figure size 432x288 with 2 Axes>"
      ]
     },
     "metadata": {
      "needs_background": "light"
     },
     "output_type": "display_data"
    },
    {
     "data": {
      "image/png": "[encoded data removed]",
      "text/plain": [
       "<Figure size 432x288 with 1 Axes>"
      ]
     },
     "metadata": {
      "needs_background": "light"
     },
     "output_type": "display_data"
    }
   ],
   "source": [
    "learning_epoch = []\n",
    "learning_loss = []\n",
    "linear_data, linear_labels= generate_linear(n = 100)\n",
    "\n",
    "neural_network = NNwork()\n",
    "neural_network.train_network(linear_data, linear_labels)  \n",
    "neural_network.test_network(linear_data, linear_labels)\n",
    "pred_y=neural_network.forward(linear_data)\n",
    "pred_y = pred_y.reshape(-1,1)\n",
    "pred_y = np.round(pred_y)\n",
    "\n",
    "show_result(linear_data, linear_labels, pred_y)\n",
    "\n",
    "plt.figure()\n",
    "plt.ylim(-0.1,3)\n",
    "plt.title('Learning curve')\n",
    "plt.plot(learning_epoch, learning_loss)\n",
    "\n",
    "plt.show()"
   ]
  },
  {
   "cell_type": "code",
   "execution_count": 7,
   "id": "33c6e6d6",
   "metadata": {
    "scrolled": true
   },
   "outputs": [
    {
     "name": "stdout",
     "output_type": "stream",
     "text": [
      "Epoch: 0, Loss: 2.566003981822393, Accuracy: 47.62%\n",
      "Epoch: 1000, Loss: 0.6900860274226401, Accuracy: 52.38%\n",
      "Epoch: 2000, Loss: 0.6899601262063634, Accuracy: 52.38%\n",
      "Epoch: 3000, Loss: 0.6898045751418741, Accuracy: 52.38%\n",
      "Epoch: 4000, Loss: 0.6895812849898505, Accuracy: 52.38%\n",
      "Epoch: 5000, Loss: 0.6892046595449645, Accuracy: 52.38%\n",
      "Epoch: 6000, Loss: 0.6884258848140824, Accuracy: 52.38%\n",
      "Epoch: 7000, Loss: 0.6862146059411749, Accuracy: 52.38%\n",
      "Epoch: 8000, Loss: 0.6769124235239233, Accuracy: 52.38%\n",
      "Epoch: 9000, Loss: 0.6397823101544695, Accuracy: 66.67%\n",
      "Epoch: 10000, Loss: 0.5440027566123934, Accuracy: 80.95%\n",
      "Epoch: 11000, Loss: 0.2725880830773521, Accuracy: 90.48%\n",
      "Epoch: 12000, Loss: 0.1284035524767832, Accuracy: 100.00%\n",
      "Epoch: 13000, Loss: 0.0674870445520791, Accuracy: 100.00%\n",
      "Epoch: 14000, Loss: 0.034598349274066756, Accuracy: 100.00%\n",
      "Epoch: 15000, Loss: 0.019202579502013872, Accuracy: 100.00%\n",
      "Epoch: 16000, Loss: 0.011863947042936659, Accuracy: 100.00%\n",
      "Epoch: 17000, Loss: 0.00798075762645536, Accuracy: 100.00%\n",
      "Epoch: 18000, Loss: 0.00570303330910555, Accuracy: 100.00%\n",
      "Epoch: 19000, Loss: 0.0042516470240935075, Accuracy: 100.00%\n",
      "Training finished.\n",
      "start testing:\n",
      "[[1.51652457e-04 9.99975211e-01 6.74779456e-04 9.99971861e-01\n",
      "  3.08508493e-03 9.99963292e-01 8.50968836e-03 9.99903623e-01\n",
      "  1.15653605e-02 9.76421546e-01 8.99391226e-03 5.20206420e-03\n",
      "  9.79401214e-01 2.79074365e-03 9.99898871e-01 1.58222484e-03\n",
      "  9.99933812e-01 9.99481802e-04 9.99917879e-01 7.08501117e-04\n",
      "  9.99887290e-01]]\n",
      "Loss: 0.003265509530826431, Accuracy: 100.00%\n",
      "testing finished\n"
     ]
    },
    {
     "data": {
      "image/png": "[encoded data removed]",
      "text/plain": [
       "<Figure size 432x288 with 2 Axes>"
      ]
     },
     "metadata": {
      "needs_background": "light"
     },
     "output_type": "display_data"
    },
    {
     "data": {
      "image/png": "[encoded data removed]",
      "text/plain": [
       "<Figure size 432x288 with 1 Axes>"
      ]
     },
     "metadata": {
      "needs_background": "light"
     },
     "output_type": "display_data"
    }
   ],
   "source": [
    "learning_epoch = []\n",
    "learning_loss = []\n",
    "xor_data, xor_labels= generate_XOR_easy()\n",
    "\n",
    "neural_network = NNwork()\n",
    "neural_network.train_network(xor_data, xor_labels)  \n",
    "neural_network.test_network(xor_data, xor_labels) \n",
    "pred_y=neural_network.forward(xor_data)\n",
    "pred_y = pred_y.reshape(-1,1)\n",
    "pred_y = np.round(pred_y)\n",
    "\n",
    "show_result(xor_data, xor_labels, pred_y)\n",
    "\n",
    "plt.figure()\n",
    "plt.ylim(-0.1,3)\n",
    "plt.title('Learning curve')\n",
    "plt.plot(learning_epoch, learning_loss)\n",
    "\n",
    "plt.show()"
   ]
  }
 ],
 "metadata": {
  "kernelspec": {
   "display_name": "Python 3 (ipykernel)",
   "language": "python",
   "name": "python3"
  },
  "language_info": {
   "codemirror_mode": {
    "name": "ipython",
    "version": 3
   },
   "file_extension": ".py",
   "mimetype": "text/x-python",
   "name": "python",
   "nbconvert_exporter": "python",
   "pygments_lexer": "ipython3",
   "version": "3.9.7"
  }
 },
 "nbformat": 4,
 "nbformat_minor": 5
}
