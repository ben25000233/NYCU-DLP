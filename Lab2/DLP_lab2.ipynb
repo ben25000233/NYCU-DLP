{
 "cells": [
  {
   "cell_type": "code",
   "execution_count": 1,
   "id": "d084f84c",
   "metadata": {},
   "outputs": [],
   "source": [
    "import numpy as np\n",
    "\n",
    "def read_bci_data():\n",
    "    S4b_train = np.load('S4b_train.npz')\n",
    "    X11b_train = np.load('X11b_train.npz')\n",
    "    S4b_test = np.load('S4b_test.npz')\n",
    "    X11b_test = np.load('X11b_test.npz')\n",
    "\n",
    "    train_data = np.concatenate((S4b_train['signal'], X11b_train['signal']), axis=0)\n",
    "    train_label = np.concatenate((S4b_train['label'], X11b_train['label']), axis=0)\n",
    "    test_data = np.concatenate((S4b_test['signal'], X11b_test['signal']), axis=0)\n",
    "    test_label = np.concatenate((S4b_test['label'], X11b_test['label']), axis=0)\n",
    "\n",
    "\n",
    "    train_label = train_label - 1\n",
    "    test_label = test_label -1\n",
    "    train_data = np.transpose(np.expand_dims(train_data, axis=1), (0, 1, 3, 2))\n",
    "    test_data = np.transpose(np.expand_dims(test_data, axis=1), (0, 1, 3, 2))\n",
    "   \n",
    "\n",
    "    mask = np.where(np.isnan(train_data))\n",
    "    train_data[mask] = np.nanmean(train_data)\n",
    "\n",
    "    mask = np.where(np.isnan(test_data))\n",
    "    test_data[mask] = np.nanmean(test_data)\n",
    "\n",
    "   \n",
    "\n",
    "    return train_data, train_label, test_data, test_label"
   ]
  },
  {
   "cell_type": "code",
   "execution_count": 2,
   "id": "8d2e50cc",
   "metadata": {},
   "outputs": [],
   "source": [
    "def read_bci_data():\n",
    "    S4b_train = np.load('S4b_train.npz')\n",
    "    X11b_train = np.load('X11b_train.npz')\n",
    "    S4b_test = np.load('S4b_test.npz')\n",
    "    X11b_test = np.load('X11b_test.npz')\n",
    "\n",
    "    train_data = np.concatenate((S4b_train['signal'], X11b_train['signal']), axis=0)\n",
    "    train_label = np.concatenate((S4b_train['label'], X11b_train['label']), axis=0)\n",
    "    test_data = np.concatenate((S4b_test['signal'], X11b_test['signal']), axis=0)\n",
    "    test_label = np.concatenate((S4b_test['label'], X11b_test['label']), axis=0)\n",
    "\n",
    "\n",
    "    train_label = train_label - 1\n",
    "    test_label = test_label -1\n",
    "    train_data = np.transpose(np.expand_dims(train_data, axis=1), (0, 1, 3, 2))\n",
    "    test_data = np.transpose(np.expand_dims(test_data, axis=1), (0, 1, 3, 2))\n",
    "   \n",
    "\n",
    "    mask = np.where(np.isnan(train_data))\n",
    "    train_data[mask] = np.nanmean(train_data)\n",
    "\n",
    "    mask = np.where(np.isnan(test_data))\n",
    "    test_data[mask] = np.nanmean(test_data)\n",
    "\n",
    "   \n",
    "\n",
    "    return train_data, train_label, test_data, test_label"
   ]
  },
  {
   "cell_type": "code",
   "execution_count": 5,
   "id": "54d128b8",
   "metadata": {},
   "outputs": [
    {
     "name": "stdout",
     "output_type": "stream",
     "text": [
      "(1080, 1, 2, 750)\n"
     ]
    }
   ],
   "source": [
    "train_data, train_label, test_data, test_label = read_bci_data()\n",
    "print(train_data.shape)"
   ]
  },
  {
   "cell_type": "code",
   "execution_count": null,
   "id": "da2207eb",
   "metadata": {},
   "outputs": [],
   "source": []
  }
 ],
 "metadata": {
  "kernelspec": {
   "display_name": "Python 3 (ipykernel)",
   "language": "python",
   "name": "python3"
  },
  "language_info": {
   "codemirror_mode": {
    "name": "ipython",
    "version": 3
   },
   "file_extension": ".py",
   "mimetype": "text/x-python",
   "name": "python",
   "nbconvert_exporter": "python",
   "pygments_lexer": "ipython3",
   "version": "3.9.7"
  }
 },
 "nbformat": 4,
 "nbformat_minor": 5
}
