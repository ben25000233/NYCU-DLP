{
 "cells": [
  {
   "cell_type": "code",
   "execution_count": 6,
   "id": "94858c82",
   "metadata": {},
   "outputs": [],
   "source": [
    "#import torch\n",
    "#import torch.nn as nn\n",
    "import numpy as np"
   ]
  },
  {
   "cell_type": "code",
   "execution_count": 4,
   "id": "d084f84c",
   "metadata": {},
   "outputs": [],
   "source": [
    "def read_bci_data():\n",
    "    S4b_train = np.load('S4b_train.npz')\n",
    "    X11b_train = np.load('X11b_train.npz')\n",
    "    S4b_test = np.load('S4b_test.npz')\n",
    "    X11b_test = np.load('X11b_test.npz')\n",
    "\n",
    "    train_data = np.concatenate((S4b_train['signal'], X11b_train['signal']), axis=0)\n",
    "    train_label = np.concatenate((S4b_train['label'], X11b_train['label']), axis=0)\n",
    "    test_data = np.concatenate((S4b_test['signal'], X11b_test['signal']), axis=0)\n",
    "    test_label = np.concatenate((S4b_test['label'], X11b_test['label']), axis=0)\n",
    "\n",
    "\n",
    "    train_label = train_label - 1\n",
    "    test_label = test_label -1\n",
    "    train_data = np.transpose(np.expand_dims(train_data, axis=1), (0, 1, 3, 2))\n",
    "    test_data = np.transpose(np.expand_dims(test_data, axis=1), (0, 1, 3, 2))\n",
    "   \n",
    "\n",
    "    mask = np.where(np.isnan(train_data))\n",
    "    train_data[mask] = np.nanmean(train_data)\n",
    "\n",
    "    mask = np.where(np.isnan(test_data))\n",
    "    test_data[mask] = np.nanmean(test_data)\n",
    "\n",
    "   \n",
    "\n",
    "    return train_data, train_label, test_data, test_label"
   ]
  },
  {
   "cell_type": "code",
   "execution_count": 12,
   "id": "54d128b8",
   "metadata": {},
   "outputs": [
    {
     "name": "stdout",
     "output_type": "stream",
     "text": [
      "750\n",
      "1080\n"
     ]
    }
   ],
   "source": [
    "train_data, train_label, test_data, test_label = read_bci_data()\n",
    "print(train_data[0][0][0].size)\n",
    "print(train_label.size)"
   ]
  },
  {
   "cell_type": "code",
   "execution_count": null,
   "id": "da2207eb",
   "metadata": {},
   "outputs": [],
   "source": [
    "class EEGNet(nn.Module):\n",
    "    def __init__(self,activation):\n",
    "        super(EEGNet,self).__init__()\n",
    "        self.firstconv=nn.Sequential(\n",
    "            nn.Conv2d(1,16,kernel_size=(1,51),stride=(1,1),padding=(0,25),bias=False),\n",
    "            nn.BatchNorm2d(16,eps=1e-5,momentum=0.1,affine=True,track_running_stats=True)\n",
    "        )\n",
    "        self.depthwiseConv=nn.Sequential(\n",
    "            nn.Conv2d(16,32,kernel_size=(2,1),stride=(1,1),groups=16,bias=False),\n",
    "            nn.BatchNorm2d(32,eps=1e-5,momentum=0.1,affine=True,track_running_stats=True),\n",
    "            activation,\n",
    "            nn.AvgPool2d(kernel_size=(1,4),stride=(1,4),padding=0),\n",
    "            nn.Dropout(p=0.25)\n",
    "        )\n",
    "        self.seperableConv=nn.Sequential(\n",
    "            nn.Conv2d(32,32,kernel_size=(1,15),stride=(1,1),padding=(0,7),bias=False),\n",
    "            nn.BatchNorm2d(32,eps=1e-5,momentum=0.1,affine=True,track_running_stats=True),\n",
    "            activation,\n",
    "            nn.AvgPool2d(kernel_size=(1,8),stride=(1,8),padding=0),\n",
    "            nn.Dropout(p=0.25)\n",
    "        )\n",
    "        self.classify=nn.Linear(736,2)\n",
    "    def forward(self,inputs):\n",
    "        output = self.firstconv(inputs)\n",
    "        output = elf.depthwiseConv(output)\n",
    "        output = self.seperableConv(output)\n",
    "        return self.classify(output)\n",
    "def calculate_accuracy(pred_y, labels_y):\n",
    "    pred_y = pred_y.reshape(-1,1)\n",
    "    pred_y = np.round(pred_y) \n",
    "    correct = np.sum(pred_y == labels_y)\n",
    "    total = labels_y.shape[0]  \n",
    "    accuracy = (correct / total) * 100  \n",
    "    return accuracy"
   ]
  },
  {
   "cell_type": "code",
   "execution_count": 3,
   "id": "a7eed24c",
   "metadata": {},
   "outputs": [
    {
     "name": "stdout",
     "output_type": "stream",
     "text": [
      "ReLU\n",
      "LeakyRLU\n",
      "ELU\n"
     ]
    },
    {
     "ename": "NameError",
     "evalue": "name 'EEGNet' is not defined",
     "output_type": "error",
     "traceback": [
      "\u001b[1;31m---------------------------------------------------------------------------\u001b[0m",
      "\u001b[1;31mNameError\u001b[0m                                 Traceback (most recent call last)",
      "\u001b[1;32m<ipython-input-3-469c93325b96>\u001b[0m in \u001b[0;36m<module>\u001b[1;34m\u001b[0m\n\u001b[0;32m      7\u001b[0m \u001b[1;32mfor\u001b[0m \u001b[0mi\u001b[0m \u001b[1;32min\u001b[0m \u001b[0mactivation\u001b[0m\u001b[1;33m:\u001b[0m\u001b[1;33m\u001b[0m\u001b[1;33m\u001b[0m\u001b[0m\n\u001b[0;32m      8\u001b[0m     \u001b[0mprint\u001b[0m\u001b[1;33m(\u001b[0m\u001b[0mi\u001b[0m\u001b[1;33m)\u001b[0m\u001b[1;33m\u001b[0m\u001b[1;33m\u001b[0m\u001b[0m\n\u001b[1;32m----> 9\u001b[1;33m \u001b[0mmodel\u001b[0m\u001b[1;33m=\u001b[0m\u001b[0mEEGNet\u001b[0m\u001b[1;33m(\u001b[0m\u001b[0mactivation\u001b[0m\u001b[1;33m)\u001b[0m\u001b[1;33m\u001b[0m\u001b[1;33m\u001b[0m\u001b[0m\n\u001b[0m",
      "\u001b[1;31mNameError\u001b[0m: name 'EEGNet' is not defined"
     ]
    }
   ],
   "source": [
    "Batch_size= 64        \n",
    "lr = 1e-2        \n",
    "Epochs = 150\n",
    "activations = [\"ReLU\", \"LeakyRLU\", \"ELU\"]\n",
    "loss = torch.nn.CrossEntropyLoss()\n",
    "train_acc = []\n",
    "for act in activations:\n",
    "    model=EEGNet(act)\n",
    "    optimizer = torch.optim.Adam(model.parameters(), lr=lr)\n",
    "    train = []\n",
    "    for epoch in Epochs:\n",
    "        for index, data in enumerate(train_data):\n",
    "            predict = model(data)\n",
    "            loss = loss(train_label, predict)\n",
    "            accuracy = \n",
    "            if epoch % 100 == 0:\n",
    "                print(f\"Epoch: {epoch}, Loss: {np.mean(loss)}, Accuracy: {accuracy:.2f}%\")"
   ]
  },
  {
   "cell_type": "code",
   "execution_count": null,
   "id": "33ceeee0",
   "metadata": {},
   "outputs": [],
   "source": []
  }
 ],
 "metadata": {
  "kernelspec": {
   "display_name": "Python 3",
   "language": "python",
   "name": "python3"
  },
  "language_info": {
   "codemirror_mode": {
    "name": "ipython",
    "version": 3
   },
   "file_extension": ".py",
   "mimetype": "text/x-python",
   "name": "python",
   "nbconvert_exporter": "python",
   "pygments_lexer": "ipython3",
   "version": "3.8.8"
  }
 },
 "nbformat": 4,
 "nbformat_minor": 5
}
