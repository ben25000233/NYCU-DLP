{
 "cells": [
  {
   "cell_type": "code",
   "execution_count": 1,
   "id": "5dd28f50",
   "metadata": {},
   "outputs": [],
   "source": [
    "import numpy as np\n",
    "import matplotlib.pyplot as plt\n",
    "import random"
   ]
  },
  {
   "cell_type": "code",
   "execution_count": 2,
   "id": "3fdd8081",
   "metadata": {},
   "outputs": [],
   "source": [
    "def generate_linear(n = 100):\n",
    "    \"\"\"\n",
    "    generate 100 linear point\n",
    "    \n",
    "    return : points and labels\n",
    "    \"\"\"\n",
    "    pts = np.random.uniform(0, 1, (n, 2))\n",
    "    inputs = []\n",
    "    labels = []\n",
    "    for pt in pts:\n",
    "        inputs.append([pt[0], pt[1]])\n",
    "        distance = (pt[0] - pt[1])/1.414\n",
    "        if pt[0] > pt[1] : \n",
    "            labels.append(0)\n",
    "        else:\n",
    "            labels.append(1)\n",
    "    return np.array(inputs), np.array(labels).reshape(n, 1)    \n",
    "        \n",
    "def generate_XOR_easy():\n",
    "    \"\"\"\n",
    "    generate 21 XOR point\n",
    "    \n",
    "    return : points and labels\n",
    "    \"\"\"\n",
    "    inputs = []\n",
    "    labels = []\n",
    "    for i in range(11):\n",
    "        inputs.append([0.1 *i, 0.1*i])\n",
    "        labels.append(0)\n",
    "        if(0.1 * i == 0.5) :\n",
    "            continue\n",
    "        inputs.append([0.1*i, 1-0.1*i])\n",
    "        labels.append(1)\n",
    "    return np.array(inputs), np.array(labels).reshape(21, 1)\n",
    "\n",
    "    "
   ]
  },
  {
   "cell_type": "code",
   "execution_count": 3,
   "id": "182185c1",
   "metadata": {},
   "outputs": [],
   "source": [
    "def sigmoid(x):\n",
    "    return 1.0 / (1.0 + np.exp(-x))\n",
    "\n",
    "def der_sigmoid(x):\n",
    "    # input x must be the value which is the output from sigmoid function\n",
    "    return x * (1 - x)"
   ]
  },
  {
   "cell_type": "code",
   "execution_count": 4,
   "id": "42ebb403",
   "metadata": {},
   "outputs": [],
   "source": [
    "class NNwork:\n",
    "    def __init__(self,neurons_per_layer = (10, 10)):\n",
    "        self.lr = 0.2\n",
    "        self.epoch = 20000\n",
    "        self.EPS=1e-3\n",
    "        self.w1 = np.random.rand(neurons_per_layer[0],2)\n",
    "        self.w2 = np.random.rand(neurons_per_layer[1],neurons_per_layer[0])\n",
    "        self.w3 = np.random.rand(1,neurons_per_layer[1])\n",
    "    \n",
    "    def loss_function(self, pred_y, label_y):\n",
    "        '''\n",
    "        choose cross entrophy as loss function\n",
    "        '''\n",
    "        loss=-(1/label_y.shape[0])*(label_y.T@np.log(pred_y+self.EPS).T+(1-label_y.T)@np.log(1-pred_y+self.EPS).T)\n",
    "        return float(np.abs(loss))\n",
    "\n",
    "        \n",
    "    def forward(self, inputs):\n",
    "        '''\n",
    "        x-> w1-> z1-> a1-> w2-> z2-> a2-> w3-> z3-> a3\n",
    "        '''\n",
    "        self.x = inputs.T\n",
    "        self.z1 = self.w1@self.x\n",
    "        self.a1 = sigmoid(self.z1)\n",
    "        self.z2 = self.w2@self.a1\n",
    "        self.a2 = sigmoid(self.z2)\n",
    "        self.z3 = self.w3@self.a2\n",
    "        self.a3 = sigmoid(self.z3)\n",
    "        return self.a3\n",
    "    \n",
    "    def backward(self,label_y):\n",
    "\n",
    "        batch_size = label_y.shape[0]\n",
    "        #calculate der_C_z3\n",
    "        der_c_a3 = -(label_y.T/(self.a3)-(1-label_y.T)/(1-self.a3))\n",
    "       \n",
    "        der_a3_z3 = der_sigmoid(self.a3)\n",
    "\n",
    "        der_c_z3 = der_c_a3*der_a3_z3 \n",
    "        #calculate der_C_z2\n",
    "        der_c_z2 = self.w3.T@der_c_z3*der_sigmoid(self.a2)\n",
    "        \n",
    "        #calculate der_C_z1\n",
    "        der_c_z1 = self.w2.T@der_c_z2*der_sigmoid(self.a1) \n",
    "        \n",
    "        # calculate gradient of weight\n",
    "        grad_W3 = der_c_z3@(self.a2).T*(1/batch_size)   \n",
    "        grad_W2 = der_c_z2@(self.a1).T*(1/batch_size)\n",
    "        grad_W1 = der_c_z1@(self.x).T*(1/batch_size)\n",
    "        \n",
    "        # update\n",
    "        self.w1 -= self.lr*grad_W1\n",
    "        self.w2 -= self.lr*grad_W2\n",
    "        self.w3 -= self.lr*grad_W3\n",
    "        return\n",
    "    \n",
    "    def calculate_accuracy(self, pred_y, labels_y):\n",
    "        pred_y = pred_y.reshape(-1,1)\n",
    "        pred_y = np.round(pred_y) \n",
    "        correct = np.sum(pred_y == labels_y)\n",
    "        total = labels_y.shape[0]  \n",
    "        accuracy = (correct / total) * 100  \n",
    "        return accuracy\n",
    "        \n",
    "    def train_network(self, inputs, labels_y):\n",
    "        for epoch in range(self.epoch):\n",
    "            pred_y = self.forward(inputs)\n",
    "            self.backward(labels_y)\n",
    "            if epoch % 1000 == 0:\n",
    "                loss = self.loss_function(pred_y, labels_y)\n",
    "                accuracy = self.calculate_accuracy(pred_y, labels_y)\n",
    "                learning_epoch.append(epoch)\n",
    "                learning_loss.append(np.mean(loss))\n",
    "\n",
    "                print(f\"Epoch: {epoch}, Loss: {np.mean(loss)}, Accuracy: {accuracy:.2f}%\")\n",
    "        print(\"Training finished.\")\n",
    "        \n",
    "    def test_network(self, inputs, labels_y):\n",
    "        print('start testing:')\n",
    "        pred_y = self.forward(inputs)\n",
    "        print(pred_y)\n",
    "        loss = self.loss_function(pred_y, labels_y)\n",
    "        accuracy = self.calculate_accuracy(pred_y, labels_y)\n",
    "        print(f\"Loss: {np.mean(loss)}, Accuracy: {accuracy:.2f}%\")\n",
    "        print('testing finished')"
   ]
  },
  {
   "cell_type": "code",
   "execution_count": 5,
   "id": "1321f5fc",
   "metadata": {},
   "outputs": [],
   "source": [
    "def show_result(x, y,pred_y):\n",
    "    plt.subplot(1, 2, 1)\n",
    "    plt.title('Ground truth', fontsize=18)\n",
    "    for i in range(x.shape[0]):\n",
    "        if y[i] == 0:\n",
    "            plt.plot(x[i][0], x[i][1], 'ro')\n",
    "        else:\n",
    "            plt.plot(x[i][0], x[i][1], 'bo')\n",
    "\n",
    "    plt.subplot(1, 2, 2)\n",
    "    plt.title('Predict result', fontsize=18)\n",
    "    for i in range(x.shape[0]):\n",
    "        if pred_y[i] == 0:\n",
    "            plt.plot(x[i][0], x[i][1], 'ro')\n",
    "        else:\n",
    "            plt.plot(x[i][0], x[i][1], 'bo')\n",
    "\n",
    "    plt.show()\n",
    "    "
   ]
  },
  {
   "cell_type": "code",
   "execution_count": 6,
   "id": "794817d0",
   "metadata": {},
   "outputs": [
    {
     "name": "stdout",
     "output_type": "stream",
     "text": [
      "Epoch: 0, Loss: 2.094906415342933, Accuracy: 49.00%\n",
      "Epoch: 1000, Loss: 0.6891926179446619, Accuracy: 51.00%\n",
      "Epoch: 2000, Loss: 0.6599924170818493, Accuracy: 92.00%\n",
      "Epoch: 3000, Loss: 0.08578017742044872, Accuracy: 100.00%\n",
      "Epoch: 4000, Loss: 0.039311314848826384, Accuracy: 100.00%\n",
      "Epoch: 5000, Loss: 0.02543916179508373, Accuracy: 100.00%\n",
      "Epoch: 6000, Loss: 0.018402237754714532, Accuracy: 100.00%\n",
      "Epoch: 7000, Loss: 0.014065271766141307, Accuracy: 100.00%\n",
      "Epoch: 8000, Loss: 0.011119607410905034, Accuracy: 100.00%\n",
      "Epoch: 9000, Loss: 0.0089999590418351, Accuracy: 100.00%\n",
      "Epoch: 10000, Loss: 0.007414207801024378, Accuracy: 100.00%\n",
      "Epoch: 11000, Loss: 0.006193353115745728, Accuracy: 100.00%\n",
      "Epoch: 12000, Loss: 0.005231971636986623, Accuracy: 100.00%\n",
      "Epoch: 13000, Loss: 0.004460723407970658, Accuracy: 100.00%\n",
      "Epoch: 14000, Loss: 0.0038321793495691837, Accuracy: 100.00%\n",
      "Epoch: 15000, Loss: 0.0033128957909891545, Accuracy: 100.00%\n",
      "Epoch: 16000, Loss: 0.0028787028229408534, Accuracy: 100.00%\n",
      "Epoch: 17000, Loss: 0.002511768827801984, Accuracy: 100.00%\n",
      "Epoch: 18000, Loss: 0.0021987030039494456, Accuracy: 100.00%\n",
      "Epoch: 19000, Loss: 0.0019292918048514304, Accuracy: 100.00%\n",
      "Training finished.\n",
      "start testing:\n",
      "[[9.99947518e-01 1.24504070e-05 9.98553258e-01 1.39169779e-02\n",
      "  9.99948867e-01 1.84682874e-05 3.47057142e-05 1.29968678e-05\n",
      "  9.99995132e-01 2.60341433e-05 9.99958839e-01 1.32484596e-05\n",
      "  1.34924919e-05 2.59543984e-04 1.26903947e-05 1.55665054e-05\n",
      "  1.32351763e-05 1.31628119e-05 1.26347912e-05 1.21386757e-04\n",
      "  1.25824275e-05 9.99921210e-01 9.99994174e-01 1.42909305e-05\n",
      "  2.23826912e-04 1.38728642e-05 7.26505373e-04 1.20560152e-05\n",
      "  7.89715156e-04 1.22421821e-05 1.25558486e-05 9.99994161e-01\n",
      "  3.53868657e-02 1.30352503e-05 1.24983078e-05 4.56285424e-05\n",
      "  9.71693997e-01 9.99995306e-01 9.99995465e-01 1.29974872e-05\n",
      "  9.99995334e-01 9.99995085e-01 9.99995411e-01 9.99994526e-01\n",
      "  9.70392374e-01 1.35148609e-05 9.99979358e-01 9.99995036e-01\n",
      "  9.99678502e-01 9.99994014e-01 9.99995343e-01 9.99992607e-01\n",
      "  9.99994227e-01 1.33774902e-05 9.77213506e-01 9.99593579e-01\n",
      "  9.99992457e-01 9.99995167e-01 9.99995379e-01 4.67870267e-02\n",
      "  9.99995287e-01 1.26097609e-05 9.99995201e-01 9.99995316e-01\n",
      "  9.99979081e-01 9.99995455e-01 9.99893927e-01 5.00180234e-05\n",
      "  9.99983581e-01 1.20715841e-05 3.47592596e-05 9.99991880e-01\n",
      "  2.32090472e-05 9.99995439e-01 9.54318812e-01 9.99995099e-01\n",
      "  9.99995505e-01 1.74474060e-05 9.99994185e-01 3.55627842e-02\n",
      "  9.99995071e-01 3.91198547e-05 1.48305933e-05 9.99995052e-01\n",
      "  1.24489265e-05 2.78271176e-04 9.99985774e-01 9.99994956e-01\n",
      "  1.31172581e-05 3.35723922e-05 2.01554944e-05 1.28861494e-05\n",
      "  1.24686527e-05 9.99990844e-01 9.99995411e-01 9.99995456e-01\n",
      "  1.43721166e-05 1.15937811e-03 1.59980521e-05 9.99994180e-01]]\n",
      "Loss: 0.0016956364630079637, Accuracy: 100.00%\n",
      "testing finished\n"
     ]
    },
    {
     "data": {
      "image/png": "[encoded data removed]",
      "text/plain": [
       "<Figure size 432x288 with 2 Axes>"
      ]
     },
     "metadata": {
      "needs_background": "light"
     },
     "output_type": "display_data"
    },
    {
     "data": {
      "image/png": "[encoded data removed]",
      "text/plain": [
       "<Figure size 432x288 with 1 Axes>"
      ]
     },
     "metadata": {
      "needs_background": "light"
     },
     "output_type": "display_data"
    }
   ],
   "source": [
    "learning_epoch = []\n",
    "learning_loss = []\n",
    "linear_data, linear_labels= generate_linear(n = 100)\n",
    "\n",
    "neural_network = NNwork()\n",
    "neural_network.train_network(linear_data, linear_labels)  \n",
    "neural_network.test_network(linear_data, linear_labels)\n",
    "pred_y=neural_network.forward(linear_data)\n",
    "pred_y = pred_y.reshape(-1,1)\n",
    "pred_y = np.round(pred_y)\n",
    "\n",
    "show_result(linear_data, linear_labels, pred_y)\n",
    "\n",
    "plt.figure()\n",
    "plt.ylim(-0.1,3)\n",
    "plt.title('Learning curve')\n",
    "plt.plot(learning_epoch, learning_loss)\n",
    "\n",
    "plt.show()"
   ]
  },
  {
   "cell_type": "code",
   "execution_count": 7,
   "id": "33c6e6d6",
   "metadata": {
    "scrolled": true
   },
   "outputs": [
    {
     "name": "stdout",
     "output_type": "stream",
     "text": [
      "Epoch: 0, Loss: 2.2073354005232417, Accuracy: 47.62%\n",
      "Epoch: 1000, Loss: 0.689744972113202, Accuracy: 52.38%\n",
      "Epoch: 2000, Loss: 0.6895633437827449, Accuracy: 52.38%\n",
      "Epoch: 3000, Loss: 0.6892953828147169, Accuracy: 52.38%\n",
      "Epoch: 4000, Loss: 0.6888667971762609, Accuracy: 52.38%\n",
      "Epoch: 5000, Loss: 0.6881105355338983, Accuracy: 52.38%\n",
      "Epoch: 6000, Loss: 0.6865766729463492, Accuracy: 52.38%\n",
      "Epoch: 7000, Loss: 0.6827289530332068, Accuracy: 42.86%\n",
      "Epoch: 8000, Loss: 0.6705524220764407, Accuracy: 28.57%\n",
      "Epoch: 9000, Loss: 0.6207490871155485, Accuracy: 85.71%\n",
      "Epoch: 10000, Loss: 0.3685040390855701, Accuracy: 95.24%\n",
      "Epoch: 11000, Loss: 0.14958102005739143, Accuracy: 95.24%\n",
      "Epoch: 12000, Loss: 0.07817333722765514, Accuracy: 100.00%\n",
      "Epoch: 13000, Loss: 0.04024365154020961, Accuracy: 100.00%\n",
      "Epoch: 14000, Loss: 0.02220767128933985, Accuracy: 100.00%\n",
      "Epoch: 15000, Loss: 0.013688982065388789, Accuracy: 100.00%\n",
      "Epoch: 16000, Loss: 0.00923890082496931, Accuracy: 100.00%\n",
      "Epoch: 17000, Loss: 0.00665280064610527, Accuracy: 100.00%\n",
      "Epoch: 18000, Loss: 0.005014133864907994, Accuracy: 100.00%\n",
      "Epoch: 19000, Loss: 0.00390402113927799, Accuracy: 100.00%\n",
      "Training finished.\n",
      "start testing:\n",
      "[[1.77817271e-04 9.99837585e-01 3.35282937e-04 9.99830578e-01\n",
      "  1.31085796e-03 9.99815435e-01 5.70049439e-03 9.99729797e-01\n",
      "  1.20248740e-02 9.78119660e-01 1.11635594e-02 6.37855572e-03\n",
      "  9.82006075e-01 3.15764911e-03 9.99649460e-01 1.65834813e-03\n",
      "  9.99677491e-01 9.92056953e-04 9.99601781e-01 6.75521789e-04\n",
      "  9.99465759e-01]]\n",
      "Loss: 0.0031120277783146123, Accuracy: 100.00%\n",
      "testing finished\n"
     ]
    },
    {
     "data": {
      "image/png": "[encoded data removed]",
      "text/plain": [
       "<Figure size 432x288 with 2 Axes>"
      ]
     },
     "metadata": {
      "needs_background": "light"
     },
     "output_type": "display_data"
    },
    {
     "data": {
      "image/png": "[encoded data removed]",
      "text/plain": [
       "<Figure size 432x288 with 1 Axes>"
      ]
     },
     "metadata": {
      "needs_background": "light"
     },
     "output_type": "display_data"
    }
   ],
   "source": [
    "learning_epoch = []\n",
    "learning_loss = []\n",
    "xor_data, xor_labels= generate_XOR_easy()\n",
    "\n",
    "neural_network = NNwork()\n",
    "neural_network.train_network(xor_data, xor_labels)  \n",
    "neural_network.test_network(xor_data, xor_labels) \n",
    "pred_y=neural_network.forward(xor_data)\n",
    "pred_y = pred_y.reshape(-1,1)\n",
    "pred_y = np.round(pred_y)\n",
    "\n",
    "show_result(xor_data, xor_labels, pred_y)\n",
    "\n",
    "plt.figure()\n",
    "plt.ylim(-0.1,3)\n",
    "plt.title('Learning curve')\n",
    "plt.plot(learning_epoch, learning_loss)\n",
    "\n",
    "plt.show()"
   ]
  }
 ],
 "metadata": {
  "kernelspec": {
   "display_name": "Python 3 (ipykernel)",
   "language": "python",
   "name": "python3"
  },
  "language_info": {
   "codemirror_mode": {
    "name": "ipython",
    "version": 3
   },
   "file_extension": ".py",
   "mimetype": "text/x-python",
   "name": "python",
   "nbconvert_exporter": "python",
   "pygments_lexer": "ipython3",
   "version": "3.9.7"
  }
 },
 "nbformat": 4,
 "nbformat_minor": 5
}
